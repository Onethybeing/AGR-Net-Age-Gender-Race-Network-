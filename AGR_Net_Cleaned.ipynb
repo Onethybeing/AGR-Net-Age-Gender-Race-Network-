{
 "cells": [
  {
   "cell_type": "code",
   "execution_count": null,
   "metadata": {
    "id": "Hy_0YR57tkIx"
   },
   "outputs": [],
   "source": [
    "\n",
    "import kagglehub\n",
    "jangedoo_utkface_new_path = kagglehub.dataset_download('jangedoo/utkface-new')\n",
    "\n",
    "print('Data source import complete.')\n"
   ]
  },
  {
   "cell_type": "markdown",
   "metadata": {
    "id": "qcmIO802tkIy"
   },
   "source": [
    "## Multi-Task Learning\n",
    "\n",
    "Multi-Task Learning (MTL) enables one model to perform many tasks. This innovative approach boosts efficiency and accuracy. It is a core technique in modern artificial intelligence.\n",
    "\n",
    "So, basically in multi-task learning :\n",
    "1. **Simultaneous Learning** : MTL models learn multiple tasks at once. They leverage shared internal representations. This improves overall performance.\n",
    "2. **Improved Generalization** : The goal is to enhance generalization. Tasks can be related or unrelated. This helps the model perform well on unseen data."
   ]
  },
  {
   "cell_type": "markdown",
   "metadata": {
    "id": "tuGsJ2CNtkIz"
   },
   "source": [
    "### How does MTL learn?\n",
    "1. **Shared Layers** : Common features are extracted here. These layers form the base.\n",
    "2. **Task-Specific Layers** : Individual tasks have their own layers. They build on shared features.\n",
    "3. **Combined Loss Functions** : Losses from all tasks are combined. This guides the learning process.\n",
    "4. **Backpropagation** : All layers are updated together. This optimizes the entire model.\n",
    "\n",
    "![image.png](attachment:be4f81be-78fe-4315-a3b1-28b9fdb5ecae.png)"
   ]
  },
  {
   "cell_type": "markdown",
   "metadata": {
    "id": "EIZrbbnotkIz"
   },
   "source": [
    "## Import the libraries"
   ]
  },
  {
   "cell_type": "code",
   "execution_count": null,
   "metadata": {
    "id": "48MWkYe0tkI0"
   },
   "outputs": [],
   "source": [
    "#Import necessary Libraries\n",
    "import os\n",
    "import numpy as np\n",
    "import pandas as pd\n",
    "import tensorflow as tf\n",
    "from tensorflow.keras import layers, models, applications, losses, optimizers, metrics\n",
    "from sklearn.model_selection import train_test_split"
   ]
  },
  {
   "cell_type": "code",
   "execution_count": null,
   "metadata": {
    "id": "-8jwBD8qtkI0"
   },
   "outputs": [],
   "source": [
    "#dataset directory\n",
    "DATASET_DIR = '/kaggle/input/utkface-new/UTKFace'\n",
    "os.listdir(DATASET_DIR)[0:3]"
   ]
  },
  {
   "cell_type": "markdown",
   "metadata": {
    "id": "G8kZ7rf6tkI0"
   },
   "source": [
    "#### From above we find that there is age_gender_race_img_name so, we need to divide them"
   ]
  },
  {
   "cell_type": "markdown",
   "metadata": {
    "id": "H6dVgLN8tkI0"
   },
   "source": [
    "## Creating the dataset"
   ]
  },
  {
   "cell_type": "code",
   "execution_count": null,
   "metadata": {
    "id": "1HtQoRbAtkI0"
   },
   "outputs": [],
   "source": [
    "import os\n",
    "from PIL import Image\n",
    "\n",
    "images = []\n",
    "ages = []\n",
    "genders = []\n",
    "races = []\n",
    "\n",
    "folder = '/kaggle/input/utkface-new/UTKFace'\n",
    "\n",
    "#converting the name into a datasetlike age_gender_race_image into 4 columns\n",
    "for filename in os.listdir(folder)[:8000]:\n",
    "    split = filename.split('_')\n",
    "    #some images didn't have the race value\n",
    "    if len(split) >= 4:\n",
    "        try:\n",
    "            age = int(split[0])\n",
    "            gender = int(split[1])\n",
    "            race = int(split[2])\n",
    "            img_path = os.path.join(folder, filename)\n",
    "            image = Image.open(img_path)\n",
    "\n",
    "            ages.append(age)\n",
    "            genders.append(gender)\n",
    "            races.append(race)\n",
    "            images.append(image)\n",
    "        except Exception as e:\n",
    "            print(f\"Skipping file {filename}: {e}\")\n",
    "    else:\n",
    "        print(f\"Skipping malformed filename: {filename}\")"
   ]
  },
  {
   "cell_type": "markdown",
   "metadata": {
    "id": "50IrpTR8tkI0"
   },
   "source": [
    "### Changing images into the images, ages, genders and races and change them to the dataframe to make a dataset and for easier purposes."
   ]
  },
  {
   "cell_type": "code",
   "execution_count": null,
   "metadata": {
    "id": "SgqY3W6ytkI1"
   },
   "outputs": [],
   "source": [
    "#Change the above series into the dataframe\n",
    "images = pd.Series(list(images), name = 'Images')\n",
    "ages = pd.Series(list(ages), name = 'Ages')\n",
    "genders = pd.Series(list(genders), name = 'Genders')\n",
    "races = pd.Series(list(races), name = 'Races')\n",
    "\n",
    "#Convert them to the dataset\n",
    "df = pd.concat([images, ages, genders, races], axis=1)\n",
    "df.head()"
   ]
  },
  {
   "cell_type": "markdown",
   "metadata": {
    "id": "uPwdRv2xtkI1"
   },
   "source": [
    "#### Map the genders and the races for easier analysis of the dataset"
   ]
  },
  {
   "cell_type": "code",
   "execution_count": null,
   "metadata": {
    "id": "R75fv8gxtkI1"
   },
   "outputs": [],
   "source": [
    "# Map gender and race BEFORE putting into the DataFrame\n",
    "gender_map = {0: 'm', 1: 'f'}\n",
    "race_map = {0: 'White', 1: 'Black', 2: 'Asian', 3: 'Indian', 4: 'Others'}\n",
    "\n",
    "# Convert genders and races using mapping\n",
    "genders_mapped = [gender_map[o] for o in genders]\n",
    "races_mapped = [race_map[o] for o in races]\n",
    "\n",
    "# Convert to pandas Series\n",
    "images_series = pd.Series(images, name='img_name')\n",
    "ages_series = pd.Series(ages, name='age')\n",
    "genders_series = pd.Series(genders_mapped, name='gender')\n",
    "races_series = pd.Series(races_mapped, name='race')\n",
    "\n",
    "# Combine into a DataFrame\n",
    "df = pd.concat([images_series, ages_series, genders_series, races_series], axis=1)\n",
    "\n",
    "# Show the DataFrame\n",
    "df.head()"
   ]
  },
  {
   "cell_type": "markdown",
   "metadata": {
    "id": "FKIveS3htkI1"
   },
   "source": [
    "#### Add the training and validation in the dataset and add that to know"
   ]
  },
  {
   "cell_type": "code",
   "execution_count": null,
   "metadata": {
    "id": "j83I2LlctkI1"
   },
   "outputs": [],
   "source": [
    "#divinding into the train and test sets\n",
    "df['is_train'] = np.random.choice(2, size=len(df), p=[0.2, 0.8])\n",
    "df.head()"
   ]
  },
  {
   "cell_type": "markdown",
   "metadata": {
    "id": "kIrxn_2ntkI2"
   },
   "source": [
    "## Visualization of the dataset"
   ]
  },
  {
   "cell_type": "code",
   "execution_count": null,
   "metadata": {
    "id": "29I0zgN6tkI2"
   },
   "outputs": [],
   "source": [
    "df.age.hist()"
   ]
  },
  {
   "cell_type": "code",
   "execution_count": null,
   "metadata": {
    "id": "Y8BvfsgitkI2"
   },
   "outputs": [],
   "source": [
    "df.gender.hist()"
   ]
  },
  {
   "cell_type": "code",
   "execution_count": null,
   "metadata": {
    "id": "LAob1og8tkI2"
   },
   "outputs": [],
   "source": [
    "df.race.hist()"
   ]
  },
  {
   "cell_type": "markdown",
   "metadata": {
    "id": "AvPC8NSStkI2"
   },
   "source": [
    "#### Seeing the random samples of the dataset"
   ]
  },
  {
   "cell_type": "code",
   "execution_count": null,
   "metadata": {
    "id": "BWzOC-EhtkI2"
   },
   "outputs": [],
   "source": [
    "import matplotlib.pyplot as plt\n",
    "\n",
    "def show_random_samples(df, n=10):\n",
    "    # Get random samples\n",
    "    samples = df.sample(n=n, random_state=10)\n",
    "\n",
    "    # Create subplot grid\n",
    "    fig, axes = plt.subplots(2, 5, figsize=(15, 6))\n",
    "    axes = axes.flatten()\n",
    "\n",
    "    for i, (idx, row) in enumerate(samples.iterrows()):\n",
    "        # Convert PIL image to array and display\n",
    "        img_array = np.array(row['img_name'])\n",
    "        axes[i].imshow(img_array)\n",
    "\n",
    "        # Add title with demographic info\n",
    "        title = f\"Age: {row['age']}\\nGender: {row['gender']}\\nRace: {row['race']}\"\n",
    "        axes[i].set_title(title, fontsize=9)\n",
    "        axes[i].axis('off')\n",
    "\n",
    "    plt.tight_layout()\n",
    "    plt.show()\n",
    "\n",
    "# Run it\n",
    "show_random_samples(df)"
   ]
  },
  {
   "cell_type": "markdown",
   "metadata": {
    "id": "lFWE9K-GtkI2"
   },
   "source": [
    "## Now convert them back to the numerical so that we can use them for model training!!"
   ]
  },
  {
   "cell_type": "code",
   "execution_count": null,
   "metadata": {
    "id": "2l5IOO8vtkI2"
   },
   "outputs": [],
   "source": [
    "# Convert categorical labels to numerical for model training\n",
    "df['gender'] = df['gender'].map({'m': 0, 'f': 1})\n",
    "df['race'] = df['race'].map({'White': 0, 'Black': 1, 'Asian': 2, 'Indian': 3, 'Others': 4})\n",
    "\n",
    "# Split data into train and test using the 'is_train' column\n",
    "train_df = df[df['is_train'] == 1]\n",
    "test_df = df[df['is_train'] == 0]\n",
    "\n",
    "print(f\"Train samples: {len(train_df)}, Test samples: {len(test_df)}\")"
   ]
  },
  {
   "cell_type": "markdown",
   "metadata": {
    "id": "Dot-wzuNtkI2"
   },
   "source": [
    "## Creating the Dataset"
   ]
  },
  {
   "cell_type": "code",
   "execution_count": null,
   "metadata": {
    "id": "uB8O-6MZtkI2"
   },
   "outputs": [],
   "source": [
    "class PILDataGenerator(tf.keras.utils.Sequence):\n",
    "    def __init__(self, df, batch_size=32, target_size=(200, 200)):\n",
    "        self.df = df\n",
    "        self.batch_size = batch_size\n",
    "        self.target_size = target_size\n",
    "        self.indices = np.arange(len(df))\n",
    "        self.on_epoch_end()\n",
    "\n",
    "    def __len__(self):\n",
    "        return int(np.ceil(len(self.df) / self.batch_size))\n",
    "\n",
    "    def on_epoch_end(self):\n",
    "        # Shuffle data at the end of each epoch\n",
    "        np.random.shuffle(self.indices)\n",
    "\n",
    "    def __getitem__(self, index):\n",
    "        batch_indices = self.indices[index*self.batch_size:(index+1)*self.batch_size]\n",
    "        batch_df = self.df.iloc[batch_indices]\n",
    "\n",
    "        images = []\n",
    "        ages = []\n",
    "        genders = []\n",
    "        races = []\n",
    "\n",
    "        for _, row in batch_df.iterrows():\n",
    "            # Directly use the PIL image from DataFrame\n",
    "            img = row['img_name']\n",
    "\n",
    "            # Ensure image is RGB (some might be grayscale)\n",
    "            if img.mode != 'RGB':\n",
    "                img = img.convert('RGB')\n",
    "\n",
    "            # Convert to array and resize if needed\n",
    "            if img.size != self.target_size:\n",
    "                img = img.resize(self.target_size)\n",
    "            img_array = tf.keras.preprocessing.image.img_to_array(img)\n",
    "            img_array = img_array / 255.0  # Normalize to [0,1]\n",
    "\n",
    "            images.append(img_array)\n",
    "            ages.append(row['age'])\n",
    "            genders.append(row['gender'])\n",
    "            races.append(row['race'])\n",
    "\n",
    "        # One-hot encode race for classification\n",
    "        races_onehot = tf.keras.utils.to_categorical(races, num_classes=5)\n",
    "\n",
    "        return np.array(images), {\n",
    "            'age_output': np.array(ages),\n",
    "            'gender_output': np.array(genders),\n",
    "            'race_output': races_onehot\n",
    "        }"
   ]
  },
  {
   "cell_type": "code",
   "execution_count": null,
   "metadata": {
    "id": "X5rGkz-WtkI3"
   },
   "outputs": [],
   "source": [
    "# Create data generators\n",
    "train_gen = PILDataGenerator(train_df, batch_size=32)\n",
    "test_gen = PILDataGenerator(test_df, batch_size=32)"
   ]
  },
  {
   "cell_type": "markdown",
   "metadata": {
    "id": "Q3w0y1LCtkI3"
   },
   "source": [
    "## Building the Multi-Task Model\n",
    "\n",
    "Since, we have 3 different task so regression for age, binary classification for the gender and multi class classification for the races"
   ]
  },
  {
   "cell_type": "code",
   "execution_count": null,
   "metadata": {
    "id": "l1-BHCMttkI3"
   },
   "outputs": [],
   "source": [
    "def build_multi_task_model(input_shape=(200, 200, 3)):\n",
    "    # Use MobileNetV2 as base for transfer learning\n",
    "    base_model = applications.MobileNetV2(\n",
    "        input_shape=input_shape,\n",
    "        include_top=False,\n",
    "        weights='imagenet',\n",
    "        pooling='avg'\n",
    "    )\n",
    "    base_model.trainable = True  # Fine-tune the base model\n",
    "\n",
    "    inputs = layers.Input(shape=input_shape)\n",
    "    x = base_model(inputs)\n",
    "\n",
    "    # Shared Feature Extraction Layers\n",
    "    shared = layers.Dense(512, activation='relu')(x)\n",
    "    shared = layers.Dropout(0.5)(shared)\n",
    "\n",
    "    # Task-Specific Heads\n",
    "    # Age prediction (regression)\n",
    "    age_head = layers.Dense(256, activation='relu')(shared)\n",
    "    age_head = layers.Dropout(0.3)(age_head)\n",
    "    age_head = layers.Dense(128, activation='relu')(age_head)\n",
    "    age_output = layers.Dense(1, name='age_output')(age_head)\n",
    "\n",
    "    # Gender prediction (binary classification)\n",
    "    gender_head = layers.Dense(128, activation='relu')(shared)\n",
    "    gender_head = layers.Dropout(0.2)(gender_head)\n",
    "    gender_output = layers.Dense(1, activation='sigmoid', name='gender_output')(gender_head)\n",
    "\n",
    "    # Race prediction (multi-class classification)\n",
    "    race_head = layers.Dense(256, activation='relu')(shared)\n",
    "    race_head = layers.Dropout(0.3)(race_head)\n",
    "    race_head = layers.Dense(128, activation='relu')(race_head)\n",
    "    race_output = layers.Dense(5, activation='softmax', name='race_output')(race_head)\n",
    "\n",
    "    return models.Model(inputs=inputs, outputs=[age_output, gender_output, race_output])"
   ]
  },
  {
   "cell_type": "code",
   "execution_count": null,
   "metadata": {
    "id": "rZztidyntkI3"
   },
   "outputs": [],
   "source": [
    "# Build and compile model\n",
    "model = build_multi_task_model()\n",
    "model.summary()"
   ]
  },
  {
   "cell_type": "markdown",
   "metadata": {
    "id": "jPT9NtHttkI3"
   },
   "source": [
    "## Defining the Loss Function"
   ]
  },
  {
   "cell_type": "code",
   "execution_count": null,
   "metadata": {
    "id": "xQxXeQBGtkI3"
   },
   "outputs": [],
   "source": [
    "# Custom loss weights to balance tasks\n",
    "model.compile(\n",
    "    optimizer=optimizers.Adam(learning_rate=0.0001),\n",
    "    loss={\n",
    "        'age_output': losses.MeanAbsoluteError(),\n",
    "        'gender_output': losses.BinaryCrossentropy(),\n",
    "        'race_output': losses.CategoricalCrossentropy()\n",
    "    },\n",
    "    loss_weights={\n",
    "        'age_output': 0.5,  # Less weight for age (regression is harder)\n",
    "        'gender_output': 1.0,\n",
    "        'race_output': 1.0\n",
    "    },\n",
    "    metrics={\n",
    "        'age_output': ['mae'],\n",
    "        'gender_output': ['accuracy'],\n",
    "        'race_output': ['accuracy']\n",
    "    }\n",
    ")"
   ]
  },
  {
   "cell_type": "code",
   "execution_count": null,
   "metadata": {
    "id": "k_-UVyWztkI3"
   },
   "outputs": [],
   "source": [
    "# Add callbacks for better training\n",
    "callbacks = [\n",
    "    tf.keras.callbacks.EarlyStopping(\n",
    "        monitor='val_loss',\n",
    "        patience=5,\n",
    "        restore_best_weights=True\n",
    "    ),\n",
    "    tf.keras.callbacks.ReduceLROnPlateau(\n",
    "        monitor='val_loss',\n",
    "        factor=0.2,\n",
    "        patience=3,\n",
    "        min_lr=1e-6\n",
    "    )\n",
    "]"
   ]
  },
  {
   "cell_type": "markdown",
   "metadata": {
    "id": "RypZteNhtkI3"
   },
   "source": [
    "## Training the Model"
   ]
  },
  {
   "cell_type": "code",
   "execution_count": null,
   "metadata": {
    "id": "rhnAO2f9tkI3"
   },
   "outputs": [],
   "source": [
    "# Train the model\n",
    "history = model.fit(\n",
    "    train_gen,\n",
    "    validation_data=test_gen,\n",
    "    epochs=30,\n",
    "    callbacks=callbacks,\n",
    "    verbose=1\n",
    ")"
   ]
  },
  {
   "cell_type": "code",
   "execution_count": null,
   "metadata": {
    "id": "hiLGS1igtkI3"
   },
   "outputs": [],
   "source": [
    "#save the model\n",
    "model.save('/kaggle/working/multi_task_model.h5')"
   ]
  },
  {
   "cell_type": "markdown",
   "metadata": {
    "id": "RX7AX7S_tkI3"
   },
   "source": [
    "## Evaluating the Model"
   ]
  },
  {
   "cell_type": "code",
   "execution_count": null,
   "metadata": {
    "id": "BU9FlAvStkI4"
   },
   "outputs": [],
   "source": [
    "results = model.evaluate(test_gen)\n",
    "print(\"\\nEvaluation Results:\")\n",
    "print(f\"Age MAE: {results[4]:.2f} years\")\n",
    "print(f\"Gender Accuracy: {results[5]*100:.2f}%\")\n",
    "print(f\"Race Accuracy: {results[6]*100:.2f}%\")"
   ]
  },
  {
   "cell_type": "markdown",
   "metadata": {
    "id": "1CxzjG6gtkI4"
   },
   "source": [
    "## Predict using the model"
   ]
  },
  {
   "cell_type": "code",
   "execution_count": null,
   "metadata": {
    "id": "TKql4AN2tkI4"
   },
   "outputs": [],
   "source": [
    "def predict_demographics(model, pil_image, target_size=(200, 200)):\n",
    "    \"\"\"Predict age, gender and race from PIL image\"\"\"\n",
    "    # Preprocess image\n",
    "    if pil_image.mode != 'RGB':\n",
    "        pil_image = pil_image.convert('RGB')\n",
    "    if pil_image.size != target_size:\n",
    "        pil_image = pil_image.resize(target_size)\n",
    "    img_array = tf.keras.preprocessing.image.img_to_array(pil_image)\n",
    "    img_array = img_array / 255.0\n",
    "    img_array = np.expand_dims(img_array, axis=0)\n",
    "\n",
    "    # Make prediction\n",
    "    age_pred, gender_pred, race_pred = model.predict(img_array)\n",
    "\n",
    "    # Convert to human-readable format\n",
    "    gender_map = {0: 'Male', 1: 'Female'}\n",
    "    race_map = {\n",
    "        0: 'White',\n",
    "        1: 'Black',\n",
    "        2: 'Asian',\n",
    "        3: 'Indian',\n",
    "        4: 'Others'\n",
    "    }\n",
    "\n",
    "    return {\n",
    "        'age': age_pred[0][0],\n",
    "        'gender': gender_map[1 if gender_pred[0][0] > 0.5 else 0],\n",
    "        'race': race_map[np.argmax(race_pred[0])]\n",
    "    }"
   ]
  },
  {
   "cell_type": "code",
   "execution_count": null,
   "metadata": {
    "id": "QZh7kPE8tkI8"
   },
   "outputs": [],
   "source": [
    "# Test the prediction on a sample from test set\n",
    "sample = test_df.iloc[0]\n",
    "result = predict_demographics(model, sample['img_name'])\n",
    "\n",
    "print(\"\\nSample Prediction:\")\n",
    "print(f\"  Image index: {sample.name}\")\n",
    "print(f\"  Predicted: Age={result['age']:.1f}, Gender={result['gender']}, Race={result['race']}\")\n",
    "print(f\"  Actual:    Age={sample['age']}, Gender={gender_map[sample['gender']]}, Race={race_map[sample['race']]}\")"
   ]
  },
  {
   "cell_type": "markdown",
   "metadata": {
    "id": "UYJD6GmGtkI8"
   },
   "source": [
    "## Visualizing the Training Parameters"
   ]
  },
  {
   "cell_type": "code",
   "execution_count": null,
   "metadata": {
    "id": "RAr45hkatkI8"
   },
   "outputs": [],
   "source": [
    "# Enhanced prediction display with image visualization\n",
    "sample = test_df.iloc[10]\n",
    "result = predict_demographics(model, sample['img_name'])\n",
    "\n",
    "# Create figure\n",
    "plt.figure(figsize=(8, 4))\n",
    "\n",
    "# Show image\n",
    "plt.subplot(1, 2, 1)\n",
    "plt.imshow(np.array(sample['img_name']))\n",
    "plt.title(f\"Sample Image\\nIndex: {sample.name}\")\n",
    "plt.axis('off')\n",
    "\n",
    "# Show prediction vs actual\n",
    "plt.subplot(1, 2, 2)\n",
    "plt.text(0.1, 0.8, \"Predicted:\", fontsize=12, weight='bold')\n",
    "plt.text(0.1, 0.7, f\"Age: {result['age']:.1f}\", fontsize=10)\n",
    "plt.text(0.1, 0.6, f\"Gender: {result['gender']}\", fontsize=10)\n",
    "plt.text(0.1, 0.5, f\"Race: {result['race']}\", fontsize=10)\n",
    "\n",
    "plt.text(0.1, 0.3, \"Actual:\", fontsize=12, weight='bold')\n",
    "plt.text(0.1, 0.2, f\"Age: {sample['age']}\", fontsize=10)\n",
    "plt.text(0.1, 0.1, f\"Gender: {gender_map[sample['gender']]}\", fontsize=10)\n",
    "plt.text(0.1, 0.0, f\"Race: {race_map[sample['race']]}\", fontsize=10)\n",
    "\n",
    "plt.axis('off')\n",
    "plt.tight_layout()\n",
    "plt.show()"
   ]
  },
  {
   "cell_type": "markdown",
   "metadata": {
    "id": "8WiLLMXitkI9"
   },
   "source": [
    "## Visualizing the training History\n"
   ]
  },
  {
   "cell_type": "code",
   "execution_count": null,
   "metadata": {
    "id": "MMDDIPz4tkI9"
   },
   "outputs": [],
   "source": [
    "import matplotlib.pyplot as plt\n",
    "\n",
    "plt.figure(figsize=(15, 5))\n",
    "\n",
    "# Plot losses\n",
    "plt.subplot(1, 3, 1)\n",
    "plt.plot(history.history['loss'], label='Train Loss')\n",
    "plt.plot(history.history['val_loss'], label='Val Loss')\n",
    "plt.title('Overall Loss')\n",
    "plt.legend()\n",
    "\n",
    "# Plot age MAE\n",
    "plt.subplot(1, 3, 2)\n",
    "plt.plot(history.history['age_output_mae'], label='Train MAE')\n",
    "plt.plot(history.history['val_age_output_mae'], label='Val MAE')\n",
    "plt.title('Age MAE')\n",
    "plt.legend()\n",
    "\n",
    "# Plot accuracies\n",
    "plt.subplot(1, 3, 3)\n",
    "plt.plot(history.history['gender_output_accuracy'], label='Train Gender Acc')\n",
    "plt.plot(history.history['val_gender_output_accuracy'], label='Val Gender Acc')\n",
    "plt.plot(history.history['race_output_accuracy'], label='Train Race Acc')\n",
    "plt.plot(history.history['val_race_output_accuracy'], label='Val Race Acc')\n",
    "plt.title('Accuracies')\n",
    "plt.legend()\n",
    "\n",
    "plt.tight_layout()\n",
    "plt.show()"
   ]
  }
 ],
 "metadata": {
  "accelerator": "GPU",
  "colab": {
   "gpuType": "T4",
   "provenance": []
  },
  "kaggle": {
   "accelerator": "none",
   "dataSources": [
    {
     "datasetId": 44109,
     "sourceId": 78156,
     "sourceType": "datasetVersion"
    }
   ],
   "dockerImageVersionId": 31040,
   "isGpuEnabled": false,
   "isInternetEnabled": true,
   "language": "python",
   "sourceType": "notebook"
  },
  "kernelspec": {
   "display_name": "Python 3",
   "name": "python3"
  },
  "language_info": {
   "codemirror_mode": {
    "name": "ipython",
    "version": 3
   },
   "file_extension": ".py",
   "mimetype": "text/x-python",
   "name": "python",
   "nbconvert_exporter": "python",
   "pygments_lexer": "ipython3",
   "version": "3.11.11"
  }
 },
 "nbformat": 4,
 "nbformat_minor": 0
}
